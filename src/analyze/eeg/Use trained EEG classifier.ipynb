{
 "cells": [
  {
   "cell_type": "code",
   "execution_count": 1,
   "metadata": {},
   "outputs": [],
   "source": [
    "from eegAnalyzeModule import *"
   ]
  },
  {
   "cell_type": "markdown",
   "metadata": {},
   "source": [
    "뇌파만.. 1초에 한번 분석해보기 "
   ]
  },
  {
   "cell_type": "code",
   "execution_count": 3,
   "metadata": {
    "collapsed": true
   },
   "outputs": [
    {
     "name": "stdout",
     "output_type": "stream",
     "text": [
      "(8, 1536)\n",
      "[False, False, False, False, False, False, False, False] 0\n",
      "결과 감정은 .. 이것 입니다 =>  disgust\n",
      "(8, 1536)\n",
      "[False, False, False, False, False, False, False, False] 0\n",
      "결과 감정은 .. 이것 입니다 =>  disgust\n",
      "(8, 1536)\n",
      "[False, False, False, False, False, False, False, False] 0\n",
      "결과 감정은 .. 이것 입니다 =>  disgust\n",
      "(8, 1536)\n",
      "[False, False, False, False, False, False, False, False] 0\n",
      "결과 감정은 .. 이것 입니다 =>  happiness\n",
      "(8, 1536)\n",
      "[False, False, False, False, False, False, False, False] 0\n",
      "결과 감정은 .. 이것 입니다 =>  happiness\n",
      "(8, 1536)\n",
      "[False, False, False, False, False, False, False, False] 0\n",
      "결과 감정은 .. 이것 입니다 =>  happiness\n",
      "(8, 1536)\n",
      "[False, False, False, False, False, False, False, False] 0\n",
      "결과 감정은 .. 이것 입니다 =>  disgust\n",
      "(8, 1536)\n",
      "[False, False, False, False, False, False, False, False] 0\n",
      "결과 감정은 .. 이것 입니다 =>  happiness\n",
      "(8, 1536)\n",
      "[False, False, False, False, False, False, False, False] 0\n",
      "결과 감정은 .. 이것 입니다 =>  disgust\n",
      "(8, 1536)\n",
      "[False, False, False, False, False, False, False, False] 0\n",
      "결과 감정은 .. 이것 입니다 =>  happiness\n"
     ]
    },
    {
     "ename": "KeyboardInterrupt",
     "evalue": "",
     "output_type": "error",
     "traceback": [
      "\u001b[1;31m---------------------------------------------------------------------------\u001b[0m",
      "\u001b[1;31mKeyboardInterrupt\u001b[0m                         Traceback (most recent call last)",
      "\u001b[1;32m<ipython-input-3-9453e7c4c23b>\u001b[0m in \u001b[0;36m<module>\u001b[1;34m\u001b[0m\n\u001b[0;32m     27\u001b[0m         \u001b[1;32mif\u001b[0m \u001b[0mkeyboard\u001b[0m\u001b[1;33m.\u001b[0m\u001b[0mis_pressed\u001b[0m\u001b[1;33m(\u001b[0m\u001b[1;34m'q'\u001b[0m\u001b[1;33m)\u001b[0m \u001b[1;33m:\u001b[0m\u001b[1;33m\u001b[0m\u001b[1;33m\u001b[0m\u001b[0m\n\u001b[0;32m     28\u001b[0m             \u001b[1;32mbreak\u001b[0m\u001b[1;33m\u001b[0m\u001b[1;33m\u001b[0m\u001b[0m\n\u001b[1;32m---> 29\u001b[1;33m         \u001b[0mtime\u001b[0m\u001b[1;33m.\u001b[0m\u001b[0msleep\u001b[0m\u001b[1;33m(\u001b[0m\u001b[1;36m1\u001b[0m\u001b[1;33m)\u001b[0m \u001b[1;31m# save recent n_seconds signal for every 1 second.\u001b[0m\u001b[1;33m\u001b[0m\u001b[1;33m\u001b[0m\u001b[0m\n\u001b[0m\u001b[0;32m     30\u001b[0m         \u001b[1;32mif\u001b[0m \u001b[0mhas_sensor\u001b[0m\u001b[1;33m:\u001b[0m\u001b[1;33m\u001b[0m\u001b[1;33m\u001b[0m\u001b[0m\n\u001b[0;32m     31\u001b[0m             \u001b[0mtemp_signal\u001b[0m \u001b[1;33m=\u001b[0m \u001b[0mboard\u001b[0m\u001b[1;33m.\u001b[0m\u001b[0mget_current_board_data\u001b[0m\u001b[1;33m(\u001b[0m\u001b[0mn_sec\u001b[0m \u001b[1;33m*\u001b[0m \u001b[0msf\u001b[0m\u001b[1;33m)\u001b[0m \u001b[1;31m# latest data from a board **\u001b[0m\u001b[1;33m\u001b[0m\u001b[1;33m\u001b[0m\u001b[0m\n",
      "\u001b[1;31mKeyboardInterrupt\u001b[0m: "
     ]
    }
   ],
   "source": [
    "from eegAnalyzeModule import * # ** \n",
    "from sensorModule import *\n",
    "import pickle\n",
    "import numpy as np\n",
    "import keyboard\n",
    "import sys\n",
    "\n",
    "n_sec = 6\n",
    "n_ch = 8\n",
    "sf =  256 #board.get_sampling_rate(0)\n",
    "eeg_channels = [i for i in range(0,8)]\n",
    "splitted_signal = []\n",
    "\n",
    "# =======================================\n",
    "if __name__ == '__main__':\n",
    "    has_sensor = True if sys.argv[1] == 'y' else False\n",
    "    \n",
    "    if has_sensor:\n",
    "        try:\n",
    "            board = set_board() \n",
    "            start_record(board)\n",
    "        except:\n",
    "            print(\"Can't connect to an EEG sensor\")\n",
    "            sys.exit(1)\n",
    "        \n",
    "    while True:\n",
    "        if keyboard.is_pressed('q') :\n",
    "            break\n",
    "        time.sleep(1) # save recent n_seconds signal for every 1 second.\n",
    "        if has_sensor:\n",
    "            temp_signal = board.get_current_board_data(n_sec * sf) # latest data from a board **\n",
    "        else:\n",
    "            temp_signal = np.random.rand(8, n_sec * sf)\n",
    "        \n",
    "        temp_signal = temp_signal[eeg_channels, :]\n",
    "        print(temp_signal.shape)\n",
    "            \n",
    "        splitted_signal.append(temp_signal)\n",
    "\n",
    "        # save \n",
    "        with open(\"test_signal.pickle\", 'wb') as f:\n",
    "            pickle.dump(temp_signal, f)\n",
    "            \n",
    "        # 여기다 넣어본다.. =============================== ***\n",
    "        eeg_emotion, n_railed, is_railed = predict_emotion_EEG(model, \"test_signal.pickle\", chosen_channels, freqs, sf=256)\n",
    "        max_idx = np.argmax(eeg_emotion[0,:].detach().numpy())\n",
    "        result_emo = emo_map[max_idx]\n",
    "        \n",
    "        if n_railed != 0:\n",
    "            print(\"Railed Channels = \", railed_channels)\n",
    "        print(\"결과 감정은 .. 이것 입니다 => \", result_emo)\n",
    "        # =============================================== ***\n",
    "        \n",
    "    # whole signal (Warn : could contain railed signals)\n",
    "    if has_sensor:\n",
    "        total_signal = board.get_board_data() # get all data and remove it from internal buffer\n",
    "        total_signal = total_signal[eeg_channels, :]\n",
    "        print(\"Total signal length = \", total_signal.shape[1] // sf)\n",
    "        \n",
    "        stop_record(board)\n",
    "    print(\"Connection closed\")\n",
    "    sys.exit(0)"
   ]
  }
 ],
 "metadata": {
  "kernelspec": {
   "display_name": "Python 3",
   "language": "python",
   "name": "python3"
  },
  "language_info": {
   "codemirror_mode": {
    "name": "ipython",
    "version": 3
   },
   "file_extension": ".py",
   "mimetype": "text/x-python",
   "name": "python",
   "nbconvert_exporter": "python",
   "pygments_lexer": "ipython3",
   "version": "3.7.3"
  }
 },
 "nbformat": 4,
 "nbformat_minor": 2
}
