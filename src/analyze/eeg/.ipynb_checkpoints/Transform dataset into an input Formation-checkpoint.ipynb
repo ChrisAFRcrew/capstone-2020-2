{
 "cells": [
  {
   "cell_type": "markdown",
   "metadata": {},
   "source": [
    "## Load Modules"
   ]
  },
  {
   "cell_type": "code",
   "execution_count": 1,
   "metadata": {},
   "outputs": [],
   "source": [
    "# Signal Preprocessing Methods\n",
    "from preprocessModule import *\n",
    "\n",
    "# Transform preprocessed signal into an input formation\n",
    "from transformModule import *\n",
    "\n",
    "# Plot methods for various input data\n",
    "from plotModule import *"
   ]
  },
  {
   "cell_type": "markdown",
   "metadata": {},
   "source": [
    "# 1. DEAP Dataset"
   ]
  },
  {
   "cell_type": "markdown",
   "metadata": {},
   "source": [
    "### DEAP Dataset Description\n",
    "* __32 participants__\n",
    "* __40 clips__ for each participant\n",
    "* Evaluation : __Valence, Arousal, Dominance, Like__ (1 to 9)\n",
    "\n",
    "### Setting & Initialization"
   ]
  },
  {
   "cell_type": "code",
   "execution_count": 5,
   "metadata": {},
   "outputs": [],
   "source": [
    "DEAP_channels = {\"FP1\":0, \"AF3\":1, \"F3\":2, \"F7\":3,\n",
    "                 \"FC5\":4, \"FC1\":5, \"C3\":6, \"T7\":7,\n",
    "                 \"CP5\":8, \"CP1\":9, \"P3\":10,\n",
    "                 \"P7\":11, \"PO3\":12, \"O1\":13, \n",
    "                 \"OZ\":14, \"PZ\":15, \"FP2\":16, \n",
    "                 \"AF4\":17, \"FZ\":18, \"F4\":19,\n",
    "                 \"F8\":20, \"FC6\":21, \"FC2\":22,\n",
    "                 \"CZ\":23, \"C4\":24, \"T8\":25,\n",
    "                 \"CP6\":26, \"CP2\":27, \"P4\":28,\n",
    "                 \"P8\":29, \"PO4\":30, \"O2\":31}\n",
    "\n",
    "DEAP_all_channel_names = list(DEAP_channels.keys())\n",
    "DEAP_all_channel_values = list(DEAP_channels.values())"
   ]
  },
  {
   "cell_type": "code",
   "execution_count": 6,
   "metadata": {},
   "outputs": [],
   "source": [
    "# Initialization ============================\n",
    "# Label list\n",
    "label_list = [] # list of tuple (V,A,D,L)\n",
    "\n",
    "# Input list \n",
    "fftMap_list = [] # Fast Fourier Transform Map\n",
    "base_fftMap_list = [] # base(3sec) fft map list\n",
    "\n",
    "fd_list = [] # FD pattern\n",
    "base_fd_list = [] \n",
    "# ===========================================\n",
    "\n",
    "# Parameters ===============================\n",
    "freqs = [freq for freq in range(4,46,1)]\n",
    "chosen_channels = DEAP_all_channel_values\n",
    "# openBCI default channels\n",
    "#chosen_channels = [0, 16, 6, 24, 11, 20, 13, 31] # [\"FP1\", \"FP2\", \"C3\", \"C4\", \"P7\", \"P8\", \"O1\", \"O2\"]\n",
    "\n",
    "sf = 128 \n",
    "chunk_size = 10 * sf\n",
    "overlap = 5 * sf\n",
    "# =========================================="
   ]
  },
  {
   "cell_type": "markdown",
   "metadata": {},
   "source": [
    "### Traverse Dataset"
   ]
  },
  {
   "cell_type": "code",
   "execution_count": 7,
   "metadata": {
    "collapsed": true
   },
   "outputs": [
    {
     "name": "stderr",
     "output_type": "stream",
     "text": [
      "/home/yj/.pyenv/versions/3.6.5/envs/eeg/lib/python3.6/site-packages/pyeeg-0.4.4-py3.6.egg/pyeeg/fractal_dimension.py:22: FutureWarning: `rcond` parameter will change to the default of machine precision times ``max(M, N)`` where M and N are the input matrix dimensions.\n",
      "To use the future default and silence this warning we advise to pass `rcond=None`, to keep using the old, explicitly pass `rcond=-1`.\n"
     ]
    },
    {
     "name": "stdout",
     "output_type": "stream",
     "text": [
      "Participant 1 Ended\n",
      "Wed Apr 22 17:02:17 2020\n"
     ]
    },
    {
     "ename": "KeyboardInterrupt",
     "evalue": "",
     "output_type": "error",
     "traceback": [
      "\u001b[0;31m---------------------------------------------------------------------------\u001b[0m",
      "\u001b[0;31mKeyboardInterrupt\u001b[0m                         Traceback (most recent call last)",
      "\u001b[0;32m<ipython-input-7-0779578b6058>\u001b[0m in \u001b[0;36m<module>\u001b[0;34m\u001b[0m\n\u001b[1;32m     40\u001b[0m             \u001b[0;31m# ========================================\u001b[0m\u001b[0;34m\u001b[0m\u001b[0;34m\u001b[0m\u001b[0m\n\u001b[1;32m     41\u001b[0m             \u001b[0;31m# FD pattern (1d array)====================\u001b[0m\u001b[0;34m\u001b[0m\u001b[0;34m\u001b[0m\u001b[0m\n\u001b[0;32m---> 42\u001b[0;31m             \u001b[0mfd\u001b[0m \u001b[0;34m=\u001b[0m \u001b[0mcomputeFD\u001b[0m\u001b[0;34m(\u001b[0m\u001b[0mchunk\u001b[0m\u001b[0;34m,\u001b[0m \u001b[0mchosen_channels\u001b[0m\u001b[0;34m)\u001b[0m\u001b[0;34m\u001b[0m\u001b[0m\n\u001b[0m\u001b[1;32m     43\u001b[0m             \u001b[0mfd_list\u001b[0m\u001b[0;34m.\u001b[0m\u001b[0mappend\u001b[0m\u001b[0;34m(\u001b[0m\u001b[0mfd\u001b[0m\u001b[0;34m)\u001b[0m\u001b[0;34m\u001b[0m\u001b[0m\n\u001b[1;32m     44\u001b[0m             \u001b[0;31m# =========================================\u001b[0m\u001b[0;34m\u001b[0m\u001b[0;34m\u001b[0m\u001b[0m\n",
      "\u001b[0;32m~/eeg/transformModule.py\u001b[0m in \u001b[0;36mcomputeFD\u001b[0;34m(total_signal, chosen_channels)\u001b[0m\n\u001b[1;32m     16\u001b[0m         \u001b[0minput_signal\u001b[0m \u001b[0;34m=\u001b[0m \u001b[0mtotal_signal\u001b[0m\u001b[0;34m[\u001b[0m\u001b[0mch\u001b[0m\u001b[0;34m]\u001b[0m\u001b[0;34m\u001b[0m\u001b[0m\n\u001b[1;32m     17\u001b[0m \u001b[0;34m\u001b[0m\u001b[0m\n\u001b[0;32m---> 18\u001b[0;31m         \u001b[0mfd\u001b[0m \u001b[0;34m=\u001b[0m \u001b[0mpe\u001b[0m\u001b[0;34m.\u001b[0m\u001b[0mhfd\u001b[0m\u001b[0;34m(\u001b[0m\u001b[0minput_signal\u001b[0m\u001b[0;34m,\u001b[0m \u001b[0;36m5\u001b[0m\u001b[0;34m)\u001b[0m\u001b[0;34m\u001b[0m\u001b[0m\n\u001b[0m\u001b[1;32m     19\u001b[0m         \u001b[0mfd_values\u001b[0m\u001b[0;34m.\u001b[0m\u001b[0mappend\u001b[0m\u001b[0;34m(\u001b[0m\u001b[0mfd\u001b[0m\u001b[0;34m)\u001b[0m\u001b[0;34m\u001b[0m\u001b[0m\n\u001b[1;32m     20\u001b[0m     \u001b[0;32mreturn\u001b[0m \u001b[0mfd_values\u001b[0m\u001b[0;34m\u001b[0m\u001b[0m\n",
      "\u001b[0;32m~/.pyenv/versions/3.6.5/envs/eeg/lib/python3.6/site-packages/pyeeg-0.4.4-py3.6.egg/pyeeg/fractal_dimension.py\u001b[0m in \u001b[0;36mhfd\u001b[0;34m(X, Kmax)\u001b[0m\n\u001b[1;32m     14\u001b[0m             \u001b[0mLmk\u001b[0m \u001b[0;34m=\u001b[0m \u001b[0;36m0\u001b[0m\u001b[0;34m\u001b[0m\u001b[0m\n\u001b[1;32m     15\u001b[0m             \u001b[0;32mfor\u001b[0m \u001b[0mi\u001b[0m \u001b[0;32min\u001b[0m \u001b[0mrange\u001b[0m\u001b[0;34m(\u001b[0m\u001b[0;36m1\u001b[0m\u001b[0;34m,\u001b[0m \u001b[0mint\u001b[0m\u001b[0;34m(\u001b[0m\u001b[0mnumpy\u001b[0m\u001b[0;34m.\u001b[0m\u001b[0mfloor\u001b[0m\u001b[0;34m(\u001b[0m\u001b[0;34m(\u001b[0m\u001b[0mN\u001b[0m \u001b[0;34m-\u001b[0m \u001b[0mm\u001b[0m\u001b[0;34m)\u001b[0m \u001b[0;34m/\u001b[0m \u001b[0mk\u001b[0m\u001b[0;34m)\u001b[0m\u001b[0;34m)\u001b[0m\u001b[0;34m)\u001b[0m\u001b[0;34m:\u001b[0m\u001b[0;34m\u001b[0m\u001b[0m\n\u001b[0;32m---> 16\u001b[0;31m                 \u001b[0mLmk\u001b[0m \u001b[0;34m+=\u001b[0m \u001b[0mabs\u001b[0m\u001b[0;34m(\u001b[0m\u001b[0mX\u001b[0m\u001b[0;34m[\u001b[0m\u001b[0mm\u001b[0m \u001b[0;34m+\u001b[0m \u001b[0mi\u001b[0m \u001b[0;34m*\u001b[0m \u001b[0mk\u001b[0m\u001b[0;34m]\u001b[0m \u001b[0;34m-\u001b[0m \u001b[0mX\u001b[0m\u001b[0;34m[\u001b[0m\u001b[0mm\u001b[0m \u001b[0;34m+\u001b[0m \u001b[0mi\u001b[0m \u001b[0;34m*\u001b[0m \u001b[0mk\u001b[0m \u001b[0;34m-\u001b[0m \u001b[0mk\u001b[0m\u001b[0;34m]\u001b[0m\u001b[0;34m)\u001b[0m\u001b[0;34m\u001b[0m\u001b[0m\n\u001b[0m\u001b[1;32m     17\u001b[0m             \u001b[0mLmk\u001b[0m \u001b[0;34m=\u001b[0m \u001b[0mLmk\u001b[0m \u001b[0;34m*\u001b[0m \u001b[0;34m(\u001b[0m\u001b[0mN\u001b[0m \u001b[0;34m-\u001b[0m \u001b[0;36m1\u001b[0m\u001b[0;34m)\u001b[0m \u001b[0;34m/\u001b[0m \u001b[0mnumpy\u001b[0m\u001b[0;34m.\u001b[0m\u001b[0mfloor\u001b[0m\u001b[0;34m(\u001b[0m\u001b[0;34m(\u001b[0m\u001b[0mN\u001b[0m \u001b[0;34m-\u001b[0m \u001b[0mm\u001b[0m\u001b[0;34m)\u001b[0m \u001b[0;34m/\u001b[0m \u001b[0mfloat\u001b[0m\u001b[0;34m(\u001b[0m\u001b[0mk\u001b[0m\u001b[0;34m)\u001b[0m\u001b[0;34m)\u001b[0m \u001b[0;34m/\u001b[0m \u001b[0mk\u001b[0m\u001b[0;34m\u001b[0m\u001b[0m\n\u001b[1;32m     18\u001b[0m             \u001b[0mLk\u001b[0m\u001b[0;34m.\u001b[0m\u001b[0mappend\u001b[0m\u001b[0;34m(\u001b[0m\u001b[0mLmk\u001b[0m\u001b[0;34m)\u001b[0m\u001b[0;34m\u001b[0m\u001b[0m\n",
      "\u001b[0;31mKeyboardInterrupt\u001b[0m: "
     ]
    }
   ],
   "source": [
    "import time\n",
    "import pickle\n",
    "\n",
    "eeg_path = \"EEG dataset/DEAP/physiological_recordings/data_preprocessed_python/data_preprocessed_python/\"\n",
    "\n",
    "# [ Loop 1 ] 32 Participants\n",
    "for participant_id in range(1, 33):\n",
    "    file_name = \"s\" + str(int(participant_id/10)) + str(participant_id%10) + \".dat\"\n",
    "    s = pickle.load(open(eeg_path + file_name, 'rb'), encoding='latin1')\n",
    "    \n",
    "    labels = s['labels']\n",
    "    data = s['data']\n",
    "    \n",
    "    # [ Loop 2 ] 40 Trials\n",
    "    for trial_id in range(0, 40):      \n",
    "        # label \n",
    "        V, A, D, L = labels[trial_id]\n",
    "        \n",
    "        base_signal = data[trial_id][:, :sf * 3] # 3sec\n",
    "        total_signal = data[trial_id][:, sf * 3:] # 60sec\n",
    "        \n",
    "        # all_chunks = [[start//sf, (start+chunk_size)//sf] for start in range(0, sf*60-chunk_size+1, chunk_size-overlap)]\n",
    "        # print(\"Total %d chunks\",%(len(all_chunks))); print(all_chunks)\n",
    "        \n",
    "        all_chunks = [total_signal[:, start:start+chunk_size] \n",
    "                     for start in range(0, sf*60-chunk_size+1, chunk_size-overlap)]\n",
    "        \n",
    "        # processing base signal==================================\n",
    "        base_fftMap = computefftMap(base_signal, chosen_channels, freqs, sf)\n",
    "        base_fftMap_list.append(base_fftMap)\n",
    "        base_fd = computeFD(base_signal, chosen_channels)\n",
    "        base_fd_list.append(base_fd)\n",
    "        # ========================================================\n",
    "        \n",
    "        # [ Loop 3 ] Sliding window\n",
    "        for chunk in all_chunks:\n",
    "            # fftMap (2d array) ======================\n",
    "            fftMap = computefftMap(chunk, chosen_channels, freqs, sf)    \n",
    "            fftMap_list.append(fftMap)\n",
    "            # ========================================\n",
    "            # FD pattern (1d array)====================\n",
    "            fd = computeFD(chunk, chosen_channels)\n",
    "            fd_list.append(fd)\n",
    "            # =========================================\n",
    "            label_list.append((V,A,D,L))\n",
    "    print(\"Participant %d Ended\"%(participant_id))\n",
    "    print(time.strftime('%c', time.localtime(time.time())))"
   ]
  },
  {
   "cell_type": "code",
   "execution_count": 9,
   "metadata": {},
   "outputs": [],
   "source": [
    "test_signal = data[trial_id][:, sf * 3:] # 60sec\n",
    "all_chunks = [test_signal[:, start:start+chunk_size] \n",
    "            for start in range(0, sf*60-chunk_size+1, chunk_size-overlap)]\n",
    "test_chunk = all_chunks[0]\n",
    "\n",
    "test_fftMap = fftMap_list[0]"
   ]
  },
  {
   "cell_type": "code",
   "execution_count": 47,
   "metadata": {},
   "outputs": [
    {
     "data": {
      "text/plain": [
       "Text(0, 0.5, 'Intensity')"
      ]
     },
     "execution_count": 47,
     "metadata": {},
     "output_type": "execute_result"
    },
    {
     "data": {
      "image/png": "[encoded data removed]",
      "text/plain": [
       "<Figure size 432x72 with 1 Axes>"
      ]
     },
     "metadata": {},
     "output_type": "display_data"
    }
   ],
   "source": [
    "import seaborn as sns\n",
    "\n",
    "sns.set(font_scale = 1.2)\n",
    "plt.figure(figsize=(6,1))\n",
    "plt.plot(test_signal[2])\n",
    "plt.xlabel('Time domain')\n",
    "plt.ylabel(\"Intensity\")"
   ]
  },
  {
   "cell_type": "code",
   "execution_count": 51,
   "metadata": {},
   "outputs": [
    {
     "data": {
      "text/plain": [
       "Text(0, 0.5, 'Amplitude')"
      ]
     },
     "execution_count": 51,
     "metadata": {},
     "output_type": "execute_result"
    },
    {
     "data": {
      "image/png": "[encoded data removed]",
      "text/plain": [
       "<Figure size 432x72 with 1 Axes>"
      ]
     },
     "metadata": {},
     "output_type": "display_data"
    }
   ],
   "source": [
    "plt.figure(figsize=(6,1))\n",
    "plt.plot(test_fftMap[5])\n",
    "plt.xlabel('Frequency domain')\n",
    "plt.ylabel(\"Amplitude\")"
   ]
  },
  {
   "cell_type": "code",
   "execution_count": 10,
   "metadata": {},
   "outputs": [
    {
     "data": {
      "image/png": "[encoded data removed]",
      "text/plain": [
       "<Figure size 432x288 with 1 Axes>"
      ]
     },
     "metadata": {
      "needs_background": "light"
     },
     "output_type": "display_data"
    }
   ],
   "source": [
    "show_image(test_fftMap)"
   ]
  },
  {
   "cell_type": "code",
   "execution_count": 364,
   "metadata": {},
   "outputs": [
    {
     "data": {
      "text/plain": [
       "True"
      ]
     },
     "execution_count": 364,
     "metadata": {},
     "output_type": "execute_result"
    }
   ],
   "source": [
    "noc = len(fftMap_list) // 1280 # num of chunks\n",
    "len(label_list) == len(fftMap_list) # True"
   ]
  },
  {
   "cell_type": "markdown",
   "metadata": {},
   "source": [
    "### Save"
   ]
  },
  {
   "cell_type": "code",
   "execution_count": 266,
   "metadata": {},
   "outputs": [],
   "source": [
    "def get_data_index(p_id, t_id, c_id, noc):\n",
    "    return (noc * 40) * p_id + noc * t_id + c_id\n",
    "\n",
    "def get_base_index(p_id, t_id):\n",
    "    return 40 * p_id + t_id\n",
    "\n",
    "# get p_id, t_id, c_id\n",
    "def from_data_index(index, noc):\n",
    "    # return index//40, index%40\n",
    "    p_id,remain = index // (noc*40), index % (noc*40)\n",
    "    return p_id, remain//noc, remain%noc"
   ]
  },
  {
   "cell_type": "code",
   "execution_count": 337,
   "metadata": {},
   "outputs": [],
   "source": [
    "data_list = []\n",
    "save_option = \"origin\" # \"diff\"\n",
    "\n",
    "for i in range(len(fftMap_list)):\n",
    "    # activated signals (60sec)\n",
    "    if save_option == \"origin\":\n",
    "        data_list.append([fftMap_list[i], label_list[i]]) # **\n",
    "        \n",
    "    # 60sec(activate) - 3sec(base)\n",
    "    elif save_option == \"diff\":\n",
    "        p_id, t_id, c_id = from_data_index(i)\n",
    "        base_index = get_base_index(p_id, t_id)\n",
    "        \n",
    "        diff = np.array(scale(fd_list[i])) - np.array(scale(base_fd_list[base_index]))\n",
    "        data_list.append([diff, label_list[i]])"
   ]
  },
  {
   "cell_type": "code",
   "execution_count": 338,
   "metadata": {},
   "outputs": [],
   "source": [
    "with open('DEAP_fftMap_10sec_5over.pickle', 'wb') as f:\n",
    "    pickle.dump(data_list, f, pickle.HIGHEST_PROTOCOL)"
   ]
  },
  {
   "cell_type": "markdown",
   "metadata": {},
   "source": [
    "# 2. SEED dataset"
   ]
  },
  {
   "cell_type": "markdown",
   "metadata": {},
   "source": [
    "### SEED dataset Description\n",
    "\n",
    "* 15 Participants\n",
    "* 3 Experiment for each participant\n",
    "* 15 Trial clips for each experiment\n",
    "    * Trial clips (total 15)\n",
    "        * Sad(0) : Aftershock(2), Back to 1942(3)\n",
    "        * Neutral(1) : World Geritage in China(5)\n",
    "        * Happy(2) : Lost in Thailand(2), Flirting Scholar, Just Another Pandora's Box(2) \n",
    "    * Trial selection criteria\n",
    "        1. not too long (about 4 min)\n",
    "        2. should elicit a single desired target emotion\n",
    "        3. should be understood without explanation\n",
    "* Experiment process\n",
    "    * 5 sec base => 4 min trial => 45 sec self-assessment => 15 sec rest\n",
    "* Preprocessing\n",
    "    * downsampled to 200Hz\n",
    "    * 0 ~ 75Hz bandpass filtering\n",
    "* Total 45(=3 experiments x 15 participants) .mat files\n",
    "    * one .mat file for each experiment\n",
    "    * 16 arrays\n",
    "        * 15 arrays : preprocessed EEG data of 15 trials\n",
    "            * shape = (channel x data)\n",
    "        * 1 arrays : Labels\n",
    "            * -1 : negative\n",
    "            * 0 : neutral\n",
    "            * 1 : positive\n",
    "    "
   ]
  },
  {
   "cell_type": "markdown",
   "metadata": {},
   "source": [
    "### Load meta data"
   ]
  },
  {
   "cell_type": "code",
   "execution_count": 1,
   "metadata": {},
   "outputs": [
    {
     "name": "stderr",
     "output_type": "stream",
     "text": [
      "/home/yj/.pyenv/versions/3.6.5/envs/eeg/lib/python3.6/site-packages/pandas/compat/__init__.py:85: UserWarning: Could not import the lzma module. Your installed Python is incomplete. Attempting to use lzma compression will result in a RuntimeError.\n",
      "  warnings.warn(msg)\n",
      "/home/yj/.pyenv/versions/3.6.5/envs/eeg/lib/python3.6/site-packages/pandas/compat/__init__.py:85: UserWarning: Could not import the lzma module. Your installed Python is incomplete. Attempting to use lzma compression will result in a RuntimeError.\n",
      "  warnings.warn(msg)\n"
     ]
    }
   ],
   "source": [
    "from scipy import io # load .mat file\n",
    "from openpyxl import load_workbook\n",
    "\n",
    "channel_path = \"EEG dataset/SEED/Channel Order.xlsx\"\n",
    "ch_file = load_workbook(channel_path, data_only=True)\n",
    "\n",
    "SEED_channels = {}\n",
    "\n",
    "for ch_idx in range(1, 63): # 1 to 62\n",
    "    SEED_channels[ch_file[\"Sheet1\"][ch_idx][0].value] = ch_idx-1\n",
    "\n",
    "SEED_all_channel_names = list(SEED_channels.keys())\n",
    "SEED_all_channel_values = list(SEED_channels.values())"
   ]
  },
  {
   "cell_type": "code",
   "execution_count": 2,
   "metadata": {},
   "outputs": [],
   "source": [
    "import os\n",
    "from collections import defaultdict\n",
    "\n",
    "eeg_path = \"EEG dataset/SEED/Preprocessed_EEG/\"\n",
    "\n",
    "filename_dict = defaultdict(list)\n",
    "\n",
    "for file in os.listdir(eeg_path):\n",
    "    filename_dict[int(file.split('_')[0])].append(file)"
   ]
  },
  {
   "cell_type": "code",
   "execution_count": 3,
   "metadata": {},
   "outputs": [
    {
     "data": {
      "text/plain": [
       "defaultdict(list,\n",
       "            {1: ['1_20131107.mat', '1_20131030.mat', '1_20131027.mat'],\n",
       "             4: ['4_20140702.mat', '4_20140705.mat', '4_20140621.mat'],\n",
       "             7: ['7_20131030.mat', '7_20131027.mat', '7_20131106.mat'],\n",
       "             12: ['12_20131207.mat', '12_20131127.mat', '12_20131201.mat'],\n",
       "             8: ['8_20140514.mat', '8_20140521.mat', '8_20140511.mat'],\n",
       "             10: ['10_20131204.mat', '10_20131130.mat', '10_20131211.mat'],\n",
       "             2: ['2_20140419.mat', '2_20140404.mat', '2_20140413.mat'],\n",
       "             3: ['3_20140611.mat', '3_20140629.mat', '3_20140603.mat'],\n",
       "             11: ['11_20140618.mat', '11_20140630.mat', '11_20140625.mat'],\n",
       "             14: ['14_20140627.mat', '14_20140601.mat', '14_20140615.mat'],\n",
       "             9: ['9_20140627.mat', '9_20140704.mat', '9_20140620.mat'],\n",
       "             15: ['15_20131105.mat', '15_20130709.mat', '15_20131016.mat'],\n",
       "             5: ['5_20140506.mat', '5_20140418.mat', '5_20140411.mat'],\n",
       "             13: ['13_20140603.mat', '13_20140610.mat', '13_20140527.mat'],\n",
       "             6: ['6_20131016.mat', '6_20130712.mat', '6_20131113.mat']})"
      ]
     },
     "execution_count": 3,
     "metadata": {},
     "output_type": "execute_result"
    }
   ],
   "source": [
    "filename_dict"
   ]
  },
  {
   "cell_type": "code",
   "execution_count": 4,
   "metadata": {},
   "outputs": [],
   "source": [
    "trial_labels = [1, 0, -1, -1, 0, 1, -1, 0, 1, 1, 0, -1, 0, 1, -1]"
   ]
  },
  {
   "cell_type": "markdown",
   "metadata": {},
   "source": [
    "### Initialization"
   ]
  },
  {
   "cell_type": "code",
   "execution_count": 5,
   "metadata": {},
   "outputs": [],
   "source": [
    "# Initialization ============================\n",
    "# Label list\n",
    "label_list = [] # -1, 0, 1\n",
    "\n",
    "# Input list \n",
    "fftMap_list = [] # list of 2d-array\n",
    "base_fftMap_list = [] # base(5 sec) fft map list\n",
    "\n",
    "fd_list = []\n",
    "base_fd_list = [] \n",
    "# ===========================================\n",
    "\n",
    "# Parameters ===============================\n",
    "sf = 200\n",
    "chunk_size = 10 * sf\n",
    "overlap = 5 * sf\n",
    "\n",
    "freqs = [freq for freq in range(4,46,1)]\n",
    "\n",
    "chosen_channels = SEED_all_channel_values # SEED channels\n",
    "# chosen_channels = [0, 16, 6, 24, 11, 20, 13, 31] # [\"FP1\", \"FP2\", \"C3\", \"C4\", \"P7\", \"P8\", \"O1\", \"O2\"]\n",
    "# chosen_channels = [] # DEAP channels \n",
    "# for ch in DEAP_all_channel_names:\n",
    "#     chosen_channels.append(SEED_channels[ch])\n",
    "# =========================================="
   ]
  },
  {
   "cell_type": "code",
   "execution_count": 6,
   "metadata": {
    "scrolled": true
   },
   "outputs": [
    {
     "name": "stdout",
     "output_type": "stream",
     "text": [
      "Pariticipant 0 Ended\n",
      "Mon Apr 27 20:09:57 2020\n",
      "Pariticipant 1 Ended\n",
      "Mon Apr 27 20:09:58 2020\n",
      "Pariticipant 2 Ended\n",
      "Mon Apr 27 20:10:00 2020\n",
      "Pariticipant 3 Ended\n",
      "Mon Apr 27 20:10:02 2020\n",
      "Pariticipant 4 Ended\n",
      "Mon Apr 27 20:10:04 2020\n",
      "Pariticipant 5 Ended\n",
      "Mon Apr 27 20:10:05 2020\n",
      "Pariticipant 6 Ended\n",
      "Mon Apr 27 20:10:07 2020\n",
      "Pariticipant 7 Ended\n",
      "Mon Apr 27 20:10:09 2020\n",
      "Pariticipant 8 Ended\n",
      "Mon Apr 27 20:10:11 2020\n",
      "Pariticipant 9 Ended\n",
      "Mon Apr 27 20:10:12 2020\n",
      "Pariticipant 10 Ended\n",
      "Mon Apr 27 20:10:14 2020\n",
      "Pariticipant 11 Ended\n",
      "Mon Apr 27 20:10:16 2020\n",
      "Pariticipant 12 Ended\n",
      "Mon Apr 27 20:10:17 2020\n",
      "Pariticipant 13 Ended\n",
      "Mon Apr 27 20:10:19 2020\n",
      "Pariticipant 14 Ended\n",
      "Mon Apr 27 20:10:21 2020\n"
     ]
    }
   ],
   "source": [
    "import time\n",
    "\n",
    "# index data\n",
    "ptc_to_idx = {} # key : \"participantID-trialID-chunkID\", value : index\n",
    "idx_to_ptc = [] # index => participantID-trialID-chunkID\n",
    "\n",
    "idx = 0\n",
    "\n",
    "# [ loop 1 ] : Participants\n",
    "for p_id in range(0, 15): # 1 to 15\n",
    "    experiment = io.loadmat(eeg_path + filename_dict[p_id+1][0])\n",
    "    \n",
    "    # [ loop 2 ] : Trials\n",
    "    t_id = 0\n",
    "    keys = list(experiment.keys())[3:] \n",
    "    for t_id in range(0, 15): \n",
    "        signal = experiment[keys[t_id]]\n",
    "        # ==============================================\n",
    "        # 2. split signal\n",
    "        base_signal = signal[:, :sf * 5] \n",
    "        total_signal = signal[:, sf * 5:] \n",
    "        \n",
    "        sig_len = total_signal.shape[1]//sf\n",
    "        \n",
    "        # all_chunks = [[start//sf, (start+chunk_size)//sf] \n",
    "        #     for start in range(0, sf*sig_len - chunk_size + 1, chunk_size-overlap)]\n",
    "        # print(\"Total %d chunks\",%(len(all_chunks))); print(all_chunks)\n",
    "        \n",
    "        all_chunks = [total_signal[:, start:start+chunk_size] \n",
    "                     for start in range(0, sf*sig_len - chunk_size + 1, chunk_size-overlap)]\n",
    "        \n",
    "        label = trial_labels[t_id]\n",
    "        # ==============================================\n",
    "        \n",
    "        # [ loop 3 ] : Chunks\n",
    "        c_id = 0\n",
    "        for chunk in all_chunks: \n",
    "            ptc_to_idx[str(p_id)+\"-\"+str(t_id)+\"-\"+str(c_id)] = idx\n",
    "            idx_to_ptc.append((p_id,t_id,c_id))\n",
    "            idx += 1; c_id += 1\n",
    "            \n",
    "            # Compute FFT Map =========================\n",
    "            fftMap = computefftMap(chunk, chosen_channels, freqs, sf)\n",
    "            fftMap_list.append(fftMap)\n",
    "            # ========================================\n",
    "            \n",
    "            # Compute FD pattern (1d array)============\n",
    "            fd = computeFD(chunk, chosen_channels)\n",
    "            fd_list.append(fd)\n",
    "            # =========================================\n",
    "            label_list.append(label)\n",
    "    print(\"Pariticipant %d Ended\"%(p_id))\n",
    "    print(time.strftime('%c', time.localtime(time.time())))"
   ]
  },
  {
   "cell_type": "code",
   "execution_count": null,
   "metadata": {},
   "outputs": [],
   "source": [
    "len(fd_list)==len(label_list)"
   ]
  },
  {
   "cell_type": "markdown",
   "metadata": {},
   "source": [
    "### Save"
   ]
  },
  {
   "cell_type": "code",
   "execution_count": 162,
   "metadata": {},
   "outputs": [],
   "source": [
    "def get_data_index(p_id, t_id, c_id, noc=0):\n",
    "    return ptc_to_idx[str(p_id) + \"-\" + str(t_id) + \"-\" + str(c_id)]\n",
    "def get_base_index(p_id, t_id):\n",
    "    return 15 * p_id + t_id\n",
    "# get p_id, t_id, c_id\n",
    "def from_data_index(index, noc=0):\n",
    "    return idx_to_ptc[index]"
   ]
  },
  {
   "cell_type": "code",
   "execution_count": null,
   "metadata": {},
   "outputs": [],
   "source": [
    "data_list = []\n",
    "save_option = \"origin\" # \"diff\"\n",
    "\n",
    "for i in range(len(label_list)):\n",
    "    # activated signals\n",
    "    if save_option == \"origin\":\n",
    "        data_list.append([fftMap_list[i], label_list[i]])        \n",
    "    # difference between activated and base signal\n",
    "    elif save_option == \"diff\":\n",
    "        p_id, t_id, c_id = from_data_index(i, noc)\n",
    "        base_index = get_base_index(p_id, t_id)\n",
    "        \n",
    "        diff = np.array(scale(fftMap_list[i])) - np.array(scale(base_fftMap_list[base_index]))\n",
    "        data_list.append([diff, label_list[i]])"
   ]
  },
  {
   "cell_type": "code",
   "execution_count": 15,
   "metadata": {},
   "outputs": [],
   "source": [
    "import pickle\n",
    "\n",
    "with open('SEED_fftMap_10sec_5over.pickle', 'wb') as f:\n",
    "    pickle.dump(data_list, f, pickle.HIGHEST_PROTOCOL)\n",
    "    \n",
    "with open(\"SEED_10sec_5over_ptc_to_idx\", 'wb') as f:\n",
    "    pickle.dump(ptc_to_idx, f, pickle.HIGHEST_PROTOCOL)\n",
    "\n",
    "with open(\"SEED_10sec_5over_idx_to_ptc\", 'wb') as f:\n",
    "    pickle.dump(idx_to_ptc, f, pickle.HIGHEST_PROTOCOL)"
   ]
  },
  {
   "cell_type": "markdown",
   "metadata": {},
   "source": [
    "# 3. Manually collected data (from openBCI sensors)\n",
    "\n",
    "* 신호 전처리"
   ]
  },
  {
   "cell_type": "code",
   "execution_count": 520,
   "metadata": {},
   "outputs": [],
   "source": [
    "def down_sampling(signal, chosen_channels):\n",
    "    down_signal = []\n",
    "    for ch in chosen_channels:\n",
    "        copy_signal = copy.deepcopy(signal[ch]) # ch 단위로 카피해야함.. (이상함..아무튼 그럼..)\n",
    "        down_signal.append(DataFilter.perform_downsampling(copy_signal, 2, AggOperations.MEAN.value))\n",
    "    down_signal = np.array(down_signal)\n",
    "    return down_signal\n",
    "\n",
    "def filtering(signal, sf, chosen_channels):\n",
    "    for ch in chosen_channels:\n",
    "        copy_signal = copy.deepcopy(signal[ch])\n",
    "\n",
    "        DataFilter.perform_lowpass(copy_signal, sf, 50.0, 5, FilterTypes.CHEBYSHEV_TYPE_1.value, 1)\n",
    "        DataFilter.perform_highpass (copy_signal, sf, 3.0, 4, FilterTypes.BUTTERWORTH.value, 0)\n",
    "\n",
    "        #DataFilter.perform_bandpass(copy_signal, sf, 24.5, 20.5, 4, FilterTypes.BESSEL.value, 0)\n",
    "        #DataFilter.perform_bandstop (copy_signal, sf, 61.0, 3.0, 3, FilterTypes.BUTTERWORTH.value, 0)\n",
    "        \n",
    "        signal[ch] = copy_signal\n",
    "    return signal"
   ]
  },
  {
   "cell_type": "code",
   "execution_count": 521,
   "metadata": {
    "collapsed": true
   },
   "outputs": [
    {
     "data": {
      "image/png": "[encoded data removed]",
      "text/plain": [
       "<Figure size 720x1080 with 8 Axes>"
      ]
     },
     "metadata": {
      "needs_background": "light"
     },
     "output_type": "display_data"
    }
   ],
   "source": [
    "import copy\n",
    "\n",
    "sf = 256\n",
    "st = sf # 초반 1초 제거\n",
    "en = sf * 8\n",
    "\n",
    "test_signal = copy.deepcopy(total_signal)\n",
    "\n",
    "down_sample_allow = True\n",
    "filter_allow = True\n",
    "\n",
    "# 1. down sampling\n",
    "if down_sample_allow:\n",
    "    sf = sf//2\n",
    "    test_signal = down_sampling(test_signal, chosen_channels)\n",
    "\n",
    "# 2. filtering \n",
    "if filter_allow : \n",
    "    test_signal = filtering(test_signal, sf, chosen_channels)\n",
    "\n",
    "\n",
    "plt.figure(figsize=(10,15))\n",
    "\n",
    "for ch in chosen_channels:\n",
    "    plt.subplot(810+ch+1)\n",
    "    plt.plot(test_signal[ch, st:])"
   ]
  },
  {
   "cell_type": "code",
   "execution_count": 131,
   "metadata": {},
   "outputs": [],
   "source": [
    "def read_signal_from_txt(path):\n",
    "    f = open(path,'r')\n",
    "\n",
    "    sf = 256\n",
    "    signal = []\n",
    "\n",
    "    while True:\n",
    "        line = f.readline()\n",
    "        if not line: break\n",
    "        if line[0] == \"%\" : continue\n",
    "\n",
    "        values = [float(val.strip(',')) for val in line.split()[1:9]]\n",
    "        \n",
    "        if len(values) == 8 and values[0] != 0:   \n",
    "            signal.append(values)\n",
    "            \n",
    "    signal = np.array(signal)\n",
    "    totalTime = len(signal)//sf\n",
    "\n",
    "    signal = signal[1:sf*totalTime+1] \n",
    "    signal = np.transpose(signal)\n",
    "\n",
    "    f.close()\n",
    "    return signal"
   ]
  },
  {
   "cell_type": "code",
   "execution_count": 706,
   "metadata": {},
   "outputs": [],
   "source": [
    "# Parameters ==================================\n",
    "n_ch = 8\n",
    "chosen_channels = [i for i in range(0, n_ch)]\n",
    "\n",
    "sf = 256\n",
    "chunk_size = 6 * sf \n",
    "overlap = 5 * sf\n",
    "\n",
    "freqs = [freq for freq in range(4,46,1)]\n",
    "# =============================================\n",
    "\n",
    "\n",
    "# preprocessing ===============================\n",
    "down_sample_allow = False\n",
    "if down_sample_allow: sf = sf//2\n",
    "filter_allow = False\n",
    "# =============================================\n",
    "\n",
    "\n",
    "# Initialization ==============================\n",
    "# index data\n",
    "ptc_to_idx = {} # key : \"participantID-trialID-chunkID\", value : index\n",
    "idx_to_ptc = [] # index => participantID-trialID-chunkID\n",
    "\n",
    "# data list\n",
    "fftMap_list = []\n",
    "label_list = [] \n",
    "# ============================================="
   ]
  },
  {
   "cell_type": "code",
   "execution_count": 1,
   "metadata": {
    "scrolled": true
   },
   "outputs": [],
   "source": [
    "import os\n",
    "\n",
    "root = \"EEG dataset/openBCI/\"\n",
    "dirs = os.listdir(root)\n",
    "\n",
    "idx = 0\n",
    "p_id = 0\n",
    "\n",
    "# [ Loop 1 ] Participant\n",
    "for directory in dirs:\n",
    "    t_id = 0 # 영상마다 고유 trial id 주는건 일단은 무리.. 구색만 맞추자\n",
    "    participant = directory.split(\"_\")[0]\n",
    "    if participant == \"skip\": continue\n",
    "    print(\"P_id =\", p_id, participant)\n",
    "    files = os.listdir(root + directory)\n",
    "    \n",
    "    # [ Loop 1 ] Trial \n",
    "    for file_name in files:\n",
    "        emo, VA, trial = file_name.split(\"_\")\n",
    "        V, A = int(VA[0]), int(VA[1])\n",
    "        trial = trial[:-4]\n",
    "        if emo == \"fear\":continue\n",
    "        \n",
    "        print(\"Emotion = %s, Valence = %d, Arousal = %d, Trial = %s\"%(emo, V, A, trial))\n",
    "        total_signal = read_signal_from_txt(root + directory + \"/\" + file_name)\n",
    "        total_signal = total_signal[:,sf*5:]\n",
    "        \n",
    "        # preprocessing =============================\n",
    "        test_signal = copy.deepcopy(total_signal)\n",
    "        # 1. down sampling\n",
    "        test_signal = down_sampling(test_signal, chosen_channels)\n",
    "        \n",
    "        # 2. bandpass filter, notch filter\n",
    "        test_signal = filtering(test_signal, sf, chosen_channels)\n",
    "        \n",
    "        total_signal = test_signal\n",
    "        # ===========================================\n",
    "        sig_len = total_signal.shape[1]//sf\n",
    "\n",
    "        all_chunks = [total_signal[:, start:start+chunk_size] \n",
    "            for start in range(0, sf*sig_len-chunk_size+1, chunk_size-overlap)]\n",
    "        \n",
    "        c_id = 0\n",
    "        # [ Loop 3 ] Chunk\n",
    "        for chunk in all_chunks:\n",
    "            ptc_to_idx[str(p_id)+\"-\"+str(t_id)+\"-\"+str(c_id)] = idx\n",
    "            idx_to_ptc.append((p_id,t_id,c_id))\n",
    "            idx +=1; c_id += 1\n",
    "            \n",
    "            fftMap = computefftMap(chunk, chosen_channels, freqs, sf)\n",
    "            fftMap_list.append(fftMap)\n",
    "            \n",
    "            label_list.append(emo)\n",
    "        t_id += 1\n",
    "    p_id += 1"
   ]
  },
  {
   "cell_type": "code",
   "execution_count": 708,
   "metadata": {},
   "outputs": [
    {
     "name": "stdout",
     "output_type": "stream",
     "text": [
      "1894\n"
     ]
    },
    {
     "data": {
      "text/plain": [
       "True"
      ]
     },
     "execution_count": 708,
     "metadata": {},
     "output_type": "execute_result"
    }
   ],
   "source": [
    "print(len(label_list))\n",
    "len(label_list) == len(fftMap_list)"
   ]
  },
  {
   "cell_type": "code",
   "execution_count": 709,
   "metadata": {},
   "outputs": [
    {
     "name": "stdout",
     "output_type": "stream",
     "text": [
      "1894\n"
     ]
    },
    {
     "data": {
      "image/png": "[encoded data removed]",
      "text/plain": [
       "<Figure size 432x288 with 1 Axes>"
      ]
     },
     "metadata": {
      "needs_background": "light"
     },
     "output_type": "display_data"
    }
   ],
   "source": [
    "print(len(fftMap_list))\n",
    "p_id = 7\n",
    "t_id = 0\n",
    "c_id = 11\n",
    "show_image(fftMap_list[get_data_index(p_id, t_id, c_id)])"
   ]
  },
  {
   "cell_type": "markdown",
   "metadata": {},
   "source": [
    "### save"
   ]
  },
  {
   "cell_type": "code",
   "execution_count": 710,
   "metadata": {},
   "outputs": [],
   "source": [
    "def get_data_index(p_id, t_id, c_id, noc=0):\n",
    "    return ptc_to_idx[str(p_id) + \"-\" + str(t_id) + \"-\" + str(c_id)]\n",
    "\n",
    "# get p_id, t_id, c_id\n",
    "def from_data_index(index, noc=0):\n",
    "    return idx_to_ptc[index]"
   ]
  },
  {
   "cell_type": "code",
   "execution_count": 711,
   "metadata": {},
   "outputs": [],
   "source": [
    "data_list = []\n",
    "\n",
    "for i in range(len(label_list)):\n",
    "    data_list.append([fftMap_list[i], label_list[i]])        "
   ]
  },
  {
   "cell_type": "code",
   "execution_count": 713,
   "metadata": {},
   "outputs": [],
   "source": [
    "import pickle\n",
    "\n",
    "with open('InputData/BCI_fftMap_6sec_5over.pickle', 'wb') as f:\n",
    "    pickle.dump(data_list, f, pickle.HIGHEST_PROTOCOL)\n",
    "    \n",
    "with open(\"InputData/BCI_6sec_5over_ptc_to_idx\", 'wb') as f:\n",
    "    pickle.dump(ptc_to_idx, f, pickle.HIGHEST_PROTOCOL)\n",
    "\n",
    "with open(\"InputData/BCI_6sec_5over_idx_to_ptc\", 'wb') as f:\n",
    "    pickle.dump(idx_to_ptc, f, pickle.HIGHEST_PROTOCOL)"
   ]
  }
 ],
 "metadata": {
  "kernelspec": {
   "display_name": "Python 3",
   "language": "python",
   "name": "python3"
  },
  "language_info": {
   "codemirror_mode": {
    "name": "ipython",
    "version": 3
   },
   "file_extension": ".py",
   "mimetype": "text/x-python",
   "name": "python",
   "nbconvert_exporter": "python",
   "pygments_lexer": "ipython3",
   "version": "3.6.5"
  }
 },
 "nbformat": 4,
 "nbformat_minor": 2
}
